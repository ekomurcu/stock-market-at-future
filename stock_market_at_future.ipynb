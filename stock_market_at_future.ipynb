{
 "cells": [
  {
   "cell_type": "markdown",
   "metadata": {},
   "source": [
    "# Data Exploration"
   ]
  },
  {
   "cell_type": "code",
   "execution_count": 20,
   "metadata": {},
   "outputs": [],
   "source": [
    "# Load the Pandas libraries with alias 'pd' \n",
    "import pandas as pd\n",
    "import numpy as np\n",
    "import scipy as sc\n",
    "\n",
    "%matplotlib inline\n",
    "import os\n",
    "from os.path import join\n",
    "from pprint import pprint\n",
    "import tensorflow as tf\n",
    "from tensorflow import keras as kr"
   ]
  },
  {
   "cell_type": "code",
   "execution_count": 21,
   "metadata": {},
   "outputs": [
    {
     "name": "stdout",
     "output_type": "stream",
     "text": [
      "C:\\Users\\EGEMEN\\desktop\\historical_stock_prices.csv\n"
     ]
    }
   ],
   "source": [
    "d_path = os.path.dirname(os.getcwd())+\"\\desktop\"\n",
    "d_file = \"historical_stock_prices.csv\"\n",
    "print(join(d_path,d_file))"
   ]
  },
  {
   "cell_type": "code",
   "execution_count": 22,
   "metadata": {},
   "outputs": [],
   "source": [
    "#Loading data\n",
    "data = pd.read_csv(join(d_path, d_file))"
   ]
  },
  {
   "cell_type": "markdown",
   "metadata": {},
   "source": [
    "# Giving basic information regarding the dataset such as shape, data types and descriptive statistics that summarize columns"
   ]
  },
  {
   "cell_type": "code",
   "execution_count": 23,
   "metadata": {},
   "outputs": [
    {
     "name": "stdout",
     "output_type": "stream",
     "text": [
      "Data Dimensionality:  (20973889, 8)\n",
      "There are 20973889 rows and 8 attributes in historical stock prices data\n"
     ]
    }
   ],
   "source": [
    "# print shape\n",
    "print('Data Dimensionality: ',data.shape)\n",
    "print(\"There are \" + str(data.shape[0]) + \" rows and \"+ str(data.shape[1])+\" attributes in historical stock prices data\")"
   ]
  },
  {
   "cell_type": "code",
   "execution_count": 24,
   "metadata": {},
   "outputs": [
    {
     "name": "stdout",
     "output_type": "stream",
     "text": [
      "Attribute Names:  Index(['ticker', 'open', 'close', 'adj_close', 'low', 'high', 'volume',\n",
      "       'date'],\n",
      "      dtype='object')\n"
     ]
    }
   ],
   "source": [
    "# print attribute names\n",
    "print('Attribute Names: ',data.columns)"
   ]
  },
  {
   "cell_type": "markdown",
   "metadata": {},
   "source": [
    "# Meanings of the attributes\n",
    "* Ticker: The symbol for the stock\n",
    "* open: The open price\n",
    "* close: The close price\n",
    "* adj_close: The adjusted close price\n",
    "* low: The low price\n",
    "* high: The high price\n",
    "* volume: The volume\n",
    "* date: The date"
   ]
  },
  {
   "cell_type": "code",
   "execution_count": 80,
   "metadata": {},
   "outputs": [
    {
     "name": "stdout",
     "output_type": "stream",
     "text": [
      "The number of stocks are: 5685\n"
     ]
    }
   ],
   "source": [
    "print(\"The number of stocks are: \" +str((data['ticker'].nunique())))"
   ]
  },
  {
   "cell_type": "code",
   "execution_count": 25,
   "metadata": {},
   "outputs": [
    {
     "name": "stdout",
     "output_type": "stream",
     "text": [
      "Head of Data: \n"
     ]
    },
    {
     "data": {
      "text/html": [
       "<div>\n",
       "<style scoped>\n",
       "    .dataframe tbody tr th:only-of-type {\n",
       "        vertical-align: middle;\n",
       "    }\n",
       "\n",
       "    .dataframe tbody tr th {\n",
       "        vertical-align: top;\n",
       "    }\n",
       "\n",
       "    .dataframe thead th {\n",
       "        text-align: right;\n",
       "    }\n",
       "</style>\n",
       "<table border=\"1\" class=\"dataframe\">\n",
       "  <thead>\n",
       "    <tr style=\"text-align: right;\">\n",
       "      <th></th>\n",
       "      <th>ticker</th>\n",
       "      <th>open</th>\n",
       "      <th>close</th>\n",
       "      <th>adj_close</th>\n",
       "      <th>low</th>\n",
       "      <th>high</th>\n",
       "      <th>volume</th>\n",
       "      <th>date</th>\n",
       "    </tr>\n",
       "  </thead>\n",
       "  <tbody>\n",
       "    <tr>\n",
       "      <th>0</th>\n",
       "      <td>AHH</td>\n",
       "      <td>11.50</td>\n",
       "      <td>11.58</td>\n",
       "      <td>8.493155</td>\n",
       "      <td>11.25</td>\n",
       "      <td>11.68</td>\n",
       "      <td>4633900</td>\n",
       "      <td>2013-05-08</td>\n",
       "    </tr>\n",
       "    <tr>\n",
       "      <th>1</th>\n",
       "      <td>AHH</td>\n",
       "      <td>11.66</td>\n",
       "      <td>11.55</td>\n",
       "      <td>8.471151</td>\n",
       "      <td>11.50</td>\n",
       "      <td>11.66</td>\n",
       "      <td>275800</td>\n",
       "      <td>2013-05-09</td>\n",
       "    </tr>\n",
       "    <tr>\n",
       "      <th>2</th>\n",
       "      <td>AHH</td>\n",
       "      <td>11.55</td>\n",
       "      <td>11.60</td>\n",
       "      <td>8.507822</td>\n",
       "      <td>11.50</td>\n",
       "      <td>11.60</td>\n",
       "      <td>277100</td>\n",
       "      <td>2013-05-10</td>\n",
       "    </tr>\n",
       "    <tr>\n",
       "      <th>3</th>\n",
       "      <td>AHH</td>\n",
       "      <td>11.63</td>\n",
       "      <td>11.65</td>\n",
       "      <td>8.544494</td>\n",
       "      <td>11.55</td>\n",
       "      <td>11.65</td>\n",
       "      <td>147400</td>\n",
       "      <td>2013-05-13</td>\n",
       "    </tr>\n",
       "    <tr>\n",
       "      <th>4</th>\n",
       "      <td>AHH</td>\n",
       "      <td>11.60</td>\n",
       "      <td>11.53</td>\n",
       "      <td>8.456484</td>\n",
       "      <td>11.50</td>\n",
       "      <td>11.60</td>\n",
       "      <td>184100</td>\n",
       "      <td>2013-05-14</td>\n",
       "    </tr>\n",
       "  </tbody>\n",
       "</table>\n",
       "</div>"
      ],
      "text/plain": [
       "  ticker   open  close  adj_close    low   high   volume        date\n",
       "0    AHH  11.50  11.58   8.493155  11.25  11.68  4633900  2013-05-08\n",
       "1    AHH  11.66  11.55   8.471151  11.50  11.66   275800  2013-05-09\n",
       "2    AHH  11.55  11.60   8.507822  11.50  11.60   277100  2013-05-10\n",
       "3    AHH  11.63  11.65   8.544494  11.55  11.65   147400  2013-05-13\n",
       "4    AHH  11.60  11.53   8.456484  11.50  11.60   184100  2013-05-14"
      ]
     },
     "execution_count": 25,
     "metadata": {},
     "output_type": "execute_result"
    }
   ],
   "source": [
    "# print first 5 rows in your dataset\n",
    "print('Head of Data: ')\n",
    "data.head()"
   ]
  },
  {
   "cell_type": "code",
   "execution_count": 26,
   "metadata": {},
   "outputs": [
    {
     "name": "stdout",
     "output_type": "stream",
     "text": [
      "Data types:  ticker        object\n",
      "open         float64\n",
      "close        float64\n",
      "adj_close    float64\n",
      "low          float64\n",
      "high         float64\n",
      "volume         int64\n",
      "date          object\n",
      "dtype: object\n"
     ]
    }
   ],
   "source": [
    "# print data types of the columns\n",
    "print('Data types: ',data.dtypes)"
   ]
  },
  {
   "cell_type": "code",
   "execution_count": 27,
   "metadata": {},
   "outputs": [
    {
     "data": {
      "text/plain": [
       "ticker       0\n",
       "open         0\n",
       "close        0\n",
       "adj_close    0\n",
       "low          0\n",
       "high         0\n",
       "volume       0\n",
       "date         0\n",
       "dtype: int64"
      ]
     },
     "execution_count": 27,
     "metadata": {},
     "output_type": "execute_result"
    }
   ],
   "source": [
    "data.isnull().sum()  # NaN counts in each column"
   ]
  },
  {
   "cell_type": "markdown",
   "metadata": {},
   "source": [
    "There is no missing value at any attribute or row so we are fine to proceed without preprocessing."
   ]
  },
  {
   "cell_type": "code",
   "execution_count": 28,
   "metadata": {},
   "outputs": [
    {
     "data": {
      "text/html": [
       "<div>\n",
       "<style scoped>\n",
       "    .dataframe tbody tr th:only-of-type {\n",
       "        vertical-align: middle;\n",
       "    }\n",
       "\n",
       "    .dataframe tbody tr th {\n",
       "        vertical-align: top;\n",
       "    }\n",
       "\n",
       "    .dataframe thead th {\n",
       "        text-align: right;\n",
       "    }\n",
       "</style>\n",
       "<table border=\"1\" class=\"dataframe\">\n",
       "  <thead>\n",
       "    <tr style=\"text-align: right;\">\n",
       "      <th></th>\n",
       "      <th>open</th>\n",
       "      <th>close</th>\n",
       "      <th>adj_close</th>\n",
       "      <th>low</th>\n",
       "      <th>high</th>\n",
       "      <th>volume</th>\n",
       "    </tr>\n",
       "  </thead>\n",
       "  <tbody>\n",
       "    <tr>\n",
       "      <th>count</th>\n",
       "      <td>2.097389e+07</td>\n",
       "      <td>2.097389e+07</td>\n",
       "      <td>2.097389e+07</td>\n",
       "      <td>2.097389e+07</td>\n",
       "      <td>2.097389e+07</td>\n",
       "      <td>2.097389e+07</td>\n",
       "    </tr>\n",
       "    <tr>\n",
       "      <th>mean</th>\n",
       "      <td>7.605823e+01</td>\n",
       "      <td>7.611403e+01</td>\n",
       "      <td>1.481184e+14</td>\n",
       "      <td>7.422064e+01</td>\n",
       "      <td>7.803857e+01</td>\n",
       "      <td>1.227043e+06</td>\n",
       "    </tr>\n",
       "    <tr>\n",
       "      <th>std</th>\n",
       "      <td>2.849639e+03</td>\n",
       "      <td>2.870159e+03</td>\n",
       "      <td>4.574674e+16</td>\n",
       "      <td>2.746059e+03</td>\n",
       "      <td>2.997937e+03</td>\n",
       "      <td>1.316686e+07</td>\n",
       "    </tr>\n",
       "    <tr>\n",
       "      <th>min</th>\n",
       "      <td>4.000000e-04</td>\n",
       "      <td>2.000000e-04</td>\n",
       "      <td>2.282650e-09</td>\n",
       "      <td>1.000000e-04</td>\n",
       "      <td>4.000000e-04</td>\n",
       "      <td>1.000000e+00</td>\n",
       "    </tr>\n",
       "    <tr>\n",
       "      <th>25%</th>\n",
       "      <td>7.500000e+00</td>\n",
       "      <td>7.500000e+00</td>\n",
       "      <td>4.620000e+00</td>\n",
       "      <td>7.360000e+00</td>\n",
       "      <td>7.630000e+00</td>\n",
       "      <td>2.210000e+04</td>\n",
       "    </tr>\n",
       "    <tr>\n",
       "      <th>50%</th>\n",
       "      <td>1.545000e+01</td>\n",
       "      <td>1.545000e+01</td>\n",
       "      <td>1.138199e+01</td>\n",
       "      <td>1.524000e+01</td>\n",
       "      <td>1.566000e+01</td>\n",
       "      <td>1.260000e+05</td>\n",
       "    </tr>\n",
       "    <tr>\n",
       "      <th>75%</th>\n",
       "      <td>2.972000e+01</td>\n",
       "      <td>2.972000e+01</td>\n",
       "      <td>2.472046e+01</td>\n",
       "      <td>2.928000e+01</td>\n",
       "      <td>3.010000e+01</td>\n",
       "      <td>6.074000e+05</td>\n",
       "    </tr>\n",
       "    <tr>\n",
       "      <th>max</th>\n",
       "      <td>2.034000e+06</td>\n",
       "      <td>1.779750e+06</td>\n",
       "      <td>1.894962e+19</td>\n",
       "      <td>1.440000e+06</td>\n",
       "      <td>2.070000e+06</td>\n",
       "      <td>4.483504e+09</td>\n",
       "    </tr>\n",
       "  </tbody>\n",
       "</table>\n",
       "</div>"
      ],
      "text/plain": [
       "               open         close     adj_close           low          high  \\\n",
       "count  2.097389e+07  2.097389e+07  2.097389e+07  2.097389e+07  2.097389e+07   \n",
       "mean   7.605823e+01  7.611403e+01  1.481184e+14  7.422064e+01  7.803857e+01   \n",
       "std    2.849639e+03  2.870159e+03  4.574674e+16  2.746059e+03  2.997937e+03   \n",
       "min    4.000000e-04  2.000000e-04  2.282650e-09  1.000000e-04  4.000000e-04   \n",
       "25%    7.500000e+00  7.500000e+00  4.620000e+00  7.360000e+00  7.630000e+00   \n",
       "50%    1.545000e+01  1.545000e+01  1.138199e+01  1.524000e+01  1.566000e+01   \n",
       "75%    2.972000e+01  2.972000e+01  2.472046e+01  2.928000e+01  3.010000e+01   \n",
       "max    2.034000e+06  1.779750e+06  1.894962e+19  1.440000e+06  2.070000e+06   \n",
       "\n",
       "             volume  \n",
       "count  2.097389e+07  \n",
       "mean   1.227043e+06  \n",
       "std    1.316686e+07  \n",
       "min    1.000000e+00  \n",
       "25%    2.210000e+04  \n",
       "50%    1.260000e+05  \n",
       "75%    6.074000e+05  \n",
       "max    4.483504e+09  "
      ]
     },
     "execution_count": 28,
     "metadata": {},
     "output_type": "execute_result"
    }
   ],
   "source": [
    "#Descriptive statistics of taxitrips data\n",
    "data.describe()"
   ]
  },
  {
   "cell_type": "code",
   "execution_count": 32,
   "metadata": {},
   "outputs": [
    {
     "data": {
      "text/plain": [
       "str"
      ]
     },
     "execution_count": 32,
     "metadata": {},
     "output_type": "execute_result"
    }
   ],
   "source": [
    "type(data['date'].iloc[0])"
   ]
  },
  {
   "cell_type": "markdown",
   "metadata": {},
   "source": [
    "The date attribute is string type object. It is better to convert it to datetime object to wrangle."
   ]
  },
  {
   "cell_type": "code",
   "execution_count": 33,
   "metadata": {},
   "outputs": [],
   "source": [
    "data['date']= pd.to_datetime(data['date'])"
   ]
  },
  {
   "cell_type": "code",
   "execution_count": 34,
   "metadata": {},
   "outputs": [
    {
     "data": {
      "text/plain": [
       "pandas._libs.tslibs.timestamps.Timestamp"
      ]
     },
     "execution_count": 34,
     "metadata": {},
     "output_type": "execute_result"
    }
   ],
   "source": [
    "type(data['date'].iloc[0])"
   ]
  },
  {
   "cell_type": "markdown",
   "metadata": {},
   "source": [
    "Now it's date time object."
   ]
  },
  {
   "cell_type": "code",
   "execution_count": 54,
   "metadata": {},
   "outputs": [
    {
     "data": {
      "text/plain": [
       "0   2013-05-08\n",
       "1   2013-05-09\n",
       "2   2013-05-10\n",
       "3   2013-05-13\n",
       "4   2013-05-14\n",
       "Name: date, dtype: datetime64[ns]"
      ]
     },
     "execution_count": 54,
     "metadata": {},
     "output_type": "execute_result"
    }
   ],
   "source": [
    "data['date'].head()"
   ]
  },
  {
   "cell_type": "code",
   "execution_count": 57,
   "metadata": {},
   "outputs": [
    {
     "name": "stdout",
     "output_type": "stream",
     "text": [
      "The minimum year of the dataset is: 1970\n",
      "The maximum year of the dataset is: 2018\n"
     ]
    }
   ],
   "source": [
    "print(\"The minimum year of the dataset is: \"+str(min(data['date'].dt.year))  )\n",
    "print(\"The maximum year of the dataset is: \"+str(max(data['date'].dt.year))  )"
   ]
  },
  {
   "cell_type": "markdown",
   "metadata": {},
   "source": [
    "### Separating the data according to the economic recessions in the USA. "
   ]
  },
  {
   "cell_type": "code",
   "execution_count": 73,
   "metadata": {},
   "outputs": [],
   "source": [
    "after_2009=data[data['date'].dt.year>2009]\n",
    "between_2001_07=data[(data['date'].dt.year<2007) & (data['date'].dt.year>2001)]\n",
    "between_91_2001=data[(data['date'].dt.year<2001) & (data['date'].dt.year>1991)]\n",
    "between_82_90=data[(data['date'].dt.year<1990) & (data['date'].dt.year>1982)]\n",
    "before_80=data[data['date'].dt.year<1980]"
   ]
  },
  {
   "cell_type": "code",
   "execution_count": 74,
   "metadata": {},
   "outputs": [
    {
     "data": {
      "text/html": [
       "<div>\n",
       "<style scoped>\n",
       "    .dataframe tbody tr th:only-of-type {\n",
       "        vertical-align: middle;\n",
       "    }\n",
       "\n",
       "    .dataframe tbody tr th {\n",
       "        vertical-align: top;\n",
       "    }\n",
       "\n",
       "    .dataframe thead th {\n",
       "        text-align: right;\n",
       "    }\n",
       "</style>\n",
       "<table border=\"1\" class=\"dataframe\">\n",
       "  <thead>\n",
       "    <tr style=\"text-align: right;\">\n",
       "      <th></th>\n",
       "      <th>ticker</th>\n",
       "      <th>open</th>\n",
       "      <th>close</th>\n",
       "      <th>adj_close</th>\n",
       "      <th>low</th>\n",
       "      <th>high</th>\n",
       "      <th>volume</th>\n",
       "      <th>date</th>\n",
       "    </tr>\n",
       "  </thead>\n",
       "  <tbody>\n",
       "    <tr>\n",
       "      <th>938</th>\n",
       "      <td>AMSWA</td>\n",
       "      <td>4.592593</td>\n",
       "      <td>4.592593</td>\n",
       "      <td>1.741648</td>\n",
       "      <td>4.592593</td>\n",
       "      <td>4.691358</td>\n",
       "      <td>449500</td>\n",
       "      <td>1983-02-28</td>\n",
       "    </tr>\n",
       "    <tr>\n",
       "      <th>951</th>\n",
       "      <td>AMSWA</td>\n",
       "      <td>4.543210</td>\n",
       "      <td>4.444445</td>\n",
       "      <td>1.685465</td>\n",
       "      <td>4.444445</td>\n",
       "      <td>4.543210</td>\n",
       "      <td>307800</td>\n",
       "      <td>1983-03-01</td>\n",
       "    </tr>\n",
       "    <tr>\n",
       "      <th>957</th>\n",
       "      <td>AMSWA</td>\n",
       "      <td>4.493827</td>\n",
       "      <td>4.493827</td>\n",
       "      <td>1.704193</td>\n",
       "      <td>4.493827</td>\n",
       "      <td>4.543210</td>\n",
       "      <td>168900</td>\n",
       "      <td>1983-03-02</td>\n",
       "    </tr>\n",
       "    <tr>\n",
       "      <th>971</th>\n",
       "      <td>AMSWA</td>\n",
       "      <td>4.493827</td>\n",
       "      <td>4.493827</td>\n",
       "      <td>1.704193</td>\n",
       "      <td>4.493827</td>\n",
       "      <td>4.543210</td>\n",
       "      <td>339000</td>\n",
       "      <td>1983-03-03</td>\n",
       "    </tr>\n",
       "    <tr>\n",
       "      <th>977</th>\n",
       "      <td>AMSWA</td>\n",
       "      <td>4.543210</td>\n",
       "      <td>4.543210</td>\n",
       "      <td>1.722921</td>\n",
       "      <td>4.543210</td>\n",
       "      <td>4.592593</td>\n",
       "      <td>532500</td>\n",
       "      <td>1983-03-04</td>\n",
       "    </tr>\n",
       "  </tbody>\n",
       "</table>\n",
       "</div>"
      ],
      "text/plain": [
       "    ticker      open     close  adj_close       low      high  volume  \\\n",
       "938  AMSWA  4.592593  4.592593   1.741648  4.592593  4.691358  449500   \n",
       "951  AMSWA  4.543210  4.444445   1.685465  4.444445  4.543210  307800   \n",
       "957  AMSWA  4.493827  4.493827   1.704193  4.493827  4.543210  168900   \n",
       "971  AMSWA  4.493827  4.493827   1.704193  4.493827  4.543210  339000   \n",
       "977  AMSWA  4.543210  4.543210   1.722921  4.543210  4.592593  532500   \n",
       "\n",
       "          date  \n",
       "938 1983-02-28  \n",
       "951 1983-03-01  \n",
       "957 1983-03-02  \n",
       "971 1983-03-03  \n",
       "977 1983-03-04  "
      ]
     },
     "execution_count": 74,
     "metadata": {},
     "output_type": "execute_result"
    }
   ],
   "source": [
    "between_82_90.head()"
   ]
  },
  {
   "cell_type": "code",
   "execution_count": 62,
   "metadata": {},
   "outputs": [
    {
     "name": "stdout",
     "output_type": "stream",
     "text": [
      "The minimum year of the dataset is: 2010\n"
     ]
    }
   ],
   "source": [
    "print(\"The minimum year of the dataset is: \"+str(min(after_2009['date'].dt.year))  )"
   ]
  },
  {
   "cell_type": "markdown",
   "metadata": {},
   "source": [
    "So, splitting the data works as what we expected."
   ]
  },
  {
   "cell_type": "code",
   "execution_count": 81,
   "metadata": {},
   "outputs": [
    {
     "name": "stdout",
     "output_type": "stream",
     "text": [
      "Row count of After 2009:  9338934\n",
      "Row count of Between 2001 and 2007:  3164685\n",
      "Row count of Between 1991 and 2001:  3498670\n",
      "Row count of Between 1982 and 1990:  1158835\n",
      "Row count of Before 1980:  164499\n"
     ]
    }
   ],
   "source": [
    "print('Row count of After 2009: ',after_2009.shape[0])\n",
    "print('Row count of Between 2001 and 2007: ',between_2001_07.shape[0])\n",
    "print('Row count of Between 1991 and 2001: ',between_91_2001.shape[0])\n",
    "print('Row count of Between 1982 and 1990: ',between_82_90.shape[0])\n",
    "print('Row count of Before 1980: ',before_80.shape[0])"
   ]
  },
  {
   "cell_type": "code",
   "execution_count": 83,
   "metadata": {},
   "outputs": [
    {
     "name": "stdout",
     "output_type": "stream",
     "text": [
      "We lost 3648266 number of rows after separating the datasets. \n"
     ]
    }
   ],
   "source": [
    "nonrecessed_count=after_2009.shape[0]+between_2001_07.shape[0]+between_91_2001.shape[0]+between_82_90.shape[0]+before_80.shape[0]\n",
    "print(\"We lost \"+str(data.shape[0]- nonrecessed_count)+ \" number of rows after separating the datasets. \")"
   ]
  },
  {
   "cell_type": "markdown",
   "metadata": {},
   "source": [
    "# Data Visualisation"
   ]
  },
  {
   "cell_type": "markdown",
   "metadata": {},
   "source": [
    "# Machine Learning via Tensorflow"
   ]
  },
  {
   "cell_type": "code",
   "execution_count": 16,
   "metadata": {},
   "outputs": [],
   "source": []
  }
 ],
 "metadata": {
  "kernelspec": {
   "display_name": "Python 3",
   "language": "python",
   "name": "python3"
  },
  "language_info": {
   "codemirror_mode": {
    "name": "ipython",
    "version": 3
   },
   "file_extension": ".py",
   "mimetype": "text/x-python",
   "name": "python",
   "nbconvert_exporter": "python",
   "pygments_lexer": "ipython3",
   "version": "3.7.7"
  }
 },
 "nbformat": 4,
 "nbformat_minor": 4
}
